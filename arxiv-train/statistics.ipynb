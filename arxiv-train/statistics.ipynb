{
 "cells": [
  {
   "cell_type": "code",
   "execution_count": 1,
   "metadata": {},
   "outputs": [
    {
     "name": "stdout",
     "output_type": "stream",
     "text": [
      "468\n"
     ]
    }
   ],
   "source": [
    "import csv\n",
    "import json\n",
    "from collections import Counter\n",
    "\n",
    "c = Counter()\n",
    "with open('arxiv_word_category.csv', 'rb') as fin:\n",
    "\treader = csv.reader(fin)\n",
    "\treader.next()\n",
    "\ttotal = [0] * 6\n",
    "\tfor row in reader:\n",
    "\t\t(paperid, words, category) = row\n",
    "\t\twords = json.loads(words)\n",
    "\t\tc[len(words)] += 1\n",
    "\n",
    "print len(c)"
   ]
  },
  {
   "cell_type": "code",
   "execution_count": 9,
   "metadata": {
    "scrolled": true
   },
   "outputs": [],
   "source": [
    "import matplotlib.pyplot as plt\n",
    "from matplotlib.backends.backend_pdf import PdfPages\n",
    "fig = plt.figure()\n",
    "plt.bar(c.keys(), c.values(), 1, color='c')\n",
    "plt.xlabel('word counts')\n",
    "plt.ylabel('frequency')\n",
    "pp = PdfPages('pdf/word_counts.pdf')\n",
    "pp.savefig(fig, bbox_inches = 'tight')\n",
    "pp.close()"
   ]
  },
  {
   "cell_type": "code",
   "execution_count": 12,
   "metadata": {},
   "outputs": [
    {
     "data": {
      "image/png": "[encoded data removed]",
      "text/plain": [
       "<matplotlib.figure.Figure at 0x7f0a58d0e8d0>"
      ]
     },
     "execution_count": 12,
     "metadata": {},
     "output_type": "execute_result"
    }
   ],
   "source": [
    "fig"
   ]
  },
  {
   "cell_type": "code",
   "execution_count": 3,
   "metadata": {
    "scrolled": false
   },
   "outputs": [
    {
     "name": "stdout",
     "output_type": "stream",
     "text": [
      "[1, 4, 9, 12, 28, 49, 99, 127, 164, 230, 308, 333, 479, 598, 674, 808, 875, 1093, 1125, 1240, 1482, 1563, 1685, 1830, 1973, 2152, 2242, 2418, 2570, 2715, 2838, 2989, 3113, 3456, 3308, 3510, 3752, 3796, 4019, 4170, 4240, 4544, 4682, 4760, 5066, 4963, 5408, 5338, 5681, 5819, 6069, 6113, 6438, 6594, 6827, 6914, 7150, 7100, 7510, 7796, 7846, 7942, 8115, 8064, 8348, 8692, 8591, 9069, 8972, 9361, 9100, 9528, 9493, 9520, 9899, 10156, 10396, 10461, 10528, 10519, 10946, 10970, 11471, 11134, 11240, 11418, 11436, 11824, 11985, 12060, 12133, 12420, 12294, 12214, 12242, 12636, 12371, 12503, 12704, 12806, 12751, 12556, 12501, 12768, 12841, 12507, 12622, 12608, 12640, 12525, 12380, 12398, 12327, 12189, 11945, 12049, 11724, 11569, 11761, 11576, 11530, 11632, 11563, 11669, 11429, 11291, 11018, 11300, 10972, 11103, 10641, 10731, 10721, 10450, 10756, 10418, 10450, 9949, 10143, 10039, 9922, 9691, 9450, 9726, 9350, 9515, 9522, 9510, 9215, 9230, 9289, 9032, 9085, 9077, 8977, 8802, 8654, 8643, 8615, 8360, 8410, 8073, 8187, 7822, 7654, 7596, 7639, 7299, 7304, 7192, 7381, 7070, 6962, 6768, 6836, 6617, 6497, 6598, 6581, 6509, 6427, 6210, 6087, 6070, 5907, 5899, 5819, 5690, 5577, 5754, 5395, 5415, 5408, 5307, 5317, 5269, 5262, 5284, 4951, 4863, 5020, 5132, 5131, 4872, 4841, 4806, 4718, 4591, 4388, 4560, 4497, 4221, 4302, 4216, 4052, 4054, 3881, 3831, 3850, 3818, 3802, 3681, 3709, 3611, 3517, 3415, 3505, 3552, 3336, 3263, 3320, 3302, 3057, 3341, 3090, 3039, 2931, 3045, 2896, 2971, 2921, 2912, 2879, 2927, 2896, 2895, 2789, 2766, 2799, 2678, 2716, 2751, 2647, 2641, 2737, 2625, 2591, 2641, 2607, 2637, 2645, 2562, 2547, 2489, 2576, 2408, 2349, 2296, 2192, 2262, 2286, 2275, 2060, 2096, 2142, 1979, 2069, 1968, 1907, 1997, 2065, 1870, 1811, 1860, 1846, 1832, 1797, 1631, 1650, 1740, 1701, 1638, 1599, 1467, 1396, 1483, 1488, 1393, 1269, 1315, 1298, 1172, 1148, 1148, 1082, 1043, 968, 942, 1011, 951, 898, 914, 857, 791, 819, 703, 735, 675, 574, 622, 574, 544, 522, 518, 515, 391, 337, 377, 334, 328, 350, 280, 308, 240, 274, 237, 231, 205, 201, 153, 188, 155, 151, 153, 122, 98, 105, 96, 84, 89, 99, 78, 69, 63, 43, 47, 44, 34, 33, 45, 36, 36, 36, 30, 16, 33, 14, 25, 9, 24, 15, 15, 27, 11, 6, 12, 4, 16, 13, 8, 2, 7, 14, 5, 7, 6, 7, 4, 3, 2, 3, 1, 5, 8, 2, 8, 5, 11, 7, 3, 1, 3, 2, 1, 1, 5, 3, 3, 6, 2, 2, 1, 2, 2, 1, 3, 1, 4, 2, 2, 2, 2, 2, 4, 2, 2, 4, 2, 4, 6, 2, 2, 9, 4, 1, 1, 1, 1, 1, 1, 1, 1, 1, 1, 1, 2, 1, 5, 2, 1, 1, 2, 2, 2, 1, 1, 1, 1, 1, 2, 2, 2, 2, 5, 1, 1, 1, 1]\n",
      "[4, 5, 6, 7, 8, 9, 10, 11, 12, 13, 14, 15, 16, 17, 18, 19, 20, 21, 22, 23, 24, 25, 26, 27, 28, 29, 30, 31, 32, 33, 34, 35, 36, 37, 38, 39, 40, 41, 42, 43, 44, 45, 46, 47, 48, 49, 50, 51, 52, 53, 54, 55, 56, 57, 58, 59, 60, 61, 62, 63, 64, 65, 66, 67, 68, 69, 70, 71, 72, 73, 74, 75, 76, 77, 78, 79, 80, 81, 82, 83, 84, 85, 86, 87, 88, 89, 90, 91, 92, 93, 94, 95, 96, 97, 98, 99, 100, 101, 102, 103, 104, 105, 106, 107, 108, 109, 110, 111, 112, 113, 114, 115, 116, 117, 118, 119, 120, 121, 122, 123, 124, 125, 126, 127, 128, 129, 130, 131, 132, 133, 134, 135, 136, 137, 138, 139, 140, 141, 142, 143, 144, 145, 146, 147, 148, 149, 150, 151, 152, 153, 154, 155, 156, 157, 158, 159, 160, 161, 162, 163, 164, 165, 166, 167, 168, 169, 170, 171, 172, 173, 174, 175, 176, 177, 178, 179, 180, 181, 182, 183, 184, 185, 186, 187, 188, 189, 190, 191, 192, 193, 194, 195, 196, 197, 198, 199, 200, 201, 202, 203, 204, 205, 206, 207, 208, 209, 210, 211, 212, 213, 214, 215, 216, 217, 218, 219, 220, 221, 222, 223, 224, 225, 226, 227, 228, 229, 230, 231, 232, 233, 234, 235, 236, 237, 238, 239, 240, 241, 242, 243, 244, 245, 246, 247, 248, 249, 250, 251, 252, 253, 254, 255, 256, 257, 258, 259, 260, 261, 262, 263, 264, 265, 266, 267, 268, 269, 270, 271, 272, 273, 274, 275, 276, 277, 278, 279, 280, 281, 282, 283, 284, 285, 286, 287, 288, 289, 290, 291, 292, 293, 294, 295, 296, 297, 298, 299, 300, 301, 302, 303, 304, 305, 306, 307, 308, 309, 310, 311, 312, 313, 314, 315, 316, 317, 318, 319, 320, 321, 322, 323, 324, 325, 326, 327, 328, 329, 330, 331, 332, 333, 334, 335, 336, 337, 338, 339, 340, 341, 342, 343, 344, 345, 346, 347, 348, 349, 350, 351, 352, 353, 354, 355, 356, 357, 358, 359, 360, 361, 362, 363, 364, 365, 366, 367, 368, 369, 370, 371, 372, 373, 374, 375, 376, 377, 378, 379, 380, 381, 382, 383, 384, 385, 386, 387, 388, 389, 390, 391, 392, 393, 394, 395, 396, 398, 399, 400, 401, 402, 403, 404, 405, 406, 407, 408, 409, 410, 412, 413, 415, 416, 417, 419, 420, 422, 423, 424, 425, 426, 427, 428, 430, 432, 433, 435, 436, 438, 439, 441, 445, 446, 448, 451, 453, 454, 455, 458, 459, 460, 461, 464, 466, 467, 468, 469, 473, 474, 476, 477, 480, 485, 487, 493, 494, 509, 520, 532, 540, 560, 567, 571, 574, 578, 579, 591, 623, 625, 628, 952]\n"
     ]
    }
   ],
   "source": []
  }
 ],
 "metadata": {
  "kernelspec": {
   "display_name": "Python 2",
   "language": "python",
   "name": "python2"
  },
  "language_info": {
   "codemirror_mode": {
    "name": "ipython",
    "version": 2
   },
   "file_extension": ".py",
   "mimetype": "text/x-python",
   "name": "python",
   "nbconvert_exporter": "python",
   "pygments_lexer": "ipython2",
   "version": "2.7.13"
  }
 },
 "nbformat": 4,
 "nbformat_minor": 2
}
